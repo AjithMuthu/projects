{
  "cells": [
    {
      "cell_type": "code",
      "execution_count": null,
      "metadata": {
        "id": "BosrukHOJV6Y"
      },
      "outputs": [],
      "source": [
        "import numpy as np\n",
        "import tensorflow as tf\n",
        "import pandas as pd\n",
        "pd.options.mode.chained_assignment = None\n",
        "import seaborn as sns\n",
        "from matplotlib.pylab import rcParams\n",
        "import matplotlib.pyplot as plt\n",
        "import plotly.express as px\n",
        "import plotly.graph_objects as go\n",
        "\n",
        "%matplotlib inline\n",
        "\n",
        "sns.set(style='whitegrid', palette='muted')\n",
        "rcParams['figure.figsize'] = 14, 8\n",
        "np.random.seed(1)\n",
        "tf.random.set_seed(1)\n",
        "\n"
      ]
    },
    {
      "cell_type": "code",
      "execution_count": null,
      "metadata": {
        "id": "bPdicqkmJh33",
        "colab": {
          "base_uri": "https://localhost:8080/"
        },
        "outputId": "69b42705-0ba4-40cc-e643-59255070e37d"
      },
      "outputs": [
        {
          "output_type": "stream",
          "name": "stdout",
          "text": [
            "Mounted at /content/drive\n"
          ]
        }
      ],
      "source": [
        "from google.colab import drive\n",
        "drive.mount('/content/drive')\n",
        "\n",
        "#Loading the Dataset\n",
        "data_train = pd.read_csv('/content/drive/My Drive/DataAnalytics/project/tr.csv', parse_dates=True, index_col=\"date\")\n",
        "data_test = pd.read_csv('/content/drive/My Drive/DataAnalytics/project/te.csv', parse_dates=True, index_col=\"date\")\n",
        "\n",
        "data_train = data_train.drop(columns=['X2', 'X3', 'X4', 'X5', 'X6', 'X7', 'X8', 'X9', 'X10', 'X11', 'X12', 'X13', 'X14', 'X15', 'X16', 'X17', 'X18', 'X19', 'X1'])\n",
        "data_test = data_test.drop(columns=['X2', 'X3', 'X4', 'X5', 'X6', 'X7', 'X8', 'X9', 'X10', 'X11', 'X12', 'X13', 'X14', 'X15', 'X16', 'X17', 'X18', 'X19', 'X1'])\n"
      ]
    },
    {
      "cell_type": "code",
      "execution_count": null,
      "metadata": {
        "id": "q6P8JjmjKfi1",
        "colab": {
          "base_uri": "https://localhost:8080/"
        },
        "outputId": "47979315-4497-4dff-b1b5-66f8f8a7f472"
      },
      "outputs": [
        {
          "output_type": "stream",
          "name": "stdout",
          "text": [
            "(496800, 1) (123393, 1)\n"
          ]
        }
      ],
      "source": [
        "print (data_train.shape, data_test.shape)"
      ]
    },
    {
      "cell_type": "code",
      "execution_count": null,
      "metadata": {
        "id": "HZMVOD1mKzxD",
        "colab": {
          "base_uri": "https://localhost:8080/",
          "height": 306
        },
        "outputId": "e68eaa37-97c8-4adf-ae1b-a04664490e30"
      },
      "outputs": [
        {
          "output_type": "display_data",
          "data": {
            "text/plain": [
              "<Figure size 432x288 with 1 Axes>"
            ],
            "image/png": "[encoded data removed]"
          },
          "metadata": {
            "needs_background": "light"
          }
        }
      ],
      "source": [
        "#lets plot train dataset\n",
        "from matplotlib import pyplot as plt\n",
        "fig, ax = plt.subplots()\n",
        "data_train.plot(legend=False, ax=ax)\n",
        "plt.show()"
      ]
    },
    {
      "cell_type": "code",
      "execution_count": null,
      "metadata": {
        "id": "8WuQHATLK6Rv",
        "colab": {
          "base_uri": "https://localhost:8080/",
          "height": 308
        },
        "outputId": "72369047-5b64-4798-bcb2-89df7553ca58"
      },
      "outputs": [
        {
          "output_type": "display_data",
          "data": {
            "text/plain": [
              "<Figure size 432x288 with 1 Axes>"
            ],
            "image/png": "[encoded data removed]"
          },
          "metadata": {
            "needs_background": "light"
          }
        }
      ],
      "source": [
        "#lets plot test dataset\n",
        "from matplotlib import pyplot as plt\n",
        "fig, ax = plt.subplots()\n",
        "data_test.plot(legend=False, ax=ax)\n",
        "plt.show()"
      ]
    },
    {
      "cell_type": "code",
      "execution_count": null,
      "metadata": {
        "id": "GuGWEWVPLAyK"
      },
      "outputs": [],
      "source": [
        "from sklearn.preprocessing import StandardScaler\n",
        "\n",
        "scaler = StandardScaler()\n",
        "scaler = scaler.fit(data_train[['X20']])\n",
        "data_train['X20'] = scaler.transform(data_train[['X20']])\n",
        "data_test['X20'] = scaler.transform(data_test[['X20']])"
      ]
    },
    {
      "cell_type": "code",
      "execution_count": null,
      "metadata": {
        "id": "ZndIrXSmLUu6"
      },
      "outputs": [],
      "source": [
        "\n",
        "def create_sequences(X, Y, time_steps=1):\n",
        "    sampleX, sampleY = [], []\n",
        "    for i in range(len(X) - time_steps):\n",
        "        sampleX.append(X.iloc[i:(i+time_steps)].values)\n",
        "        sampleY.append(Y.iloc[i + time_steps])\n",
        "    \n",
        "    return np.array(sampleX), np.array(sampleY)"
      ]
    },
    {
      "cell_type": "code",
      "execution_count": null,
      "metadata": {
        "id": "8o6BqanBLhSI",
        "colab": {
          "base_uri": "https://localhost:8080/"
        },
        "outputId": "e4c12b42-1588-4da0-a5a8-2d48adb13f5e"
      },
      "outputs": [
        {
          "output_type": "stream",
          "name": "stdout",
          "text": [
            "(496799, 1, 1) (123392, 1, 1)\n"
          ]
        }
      ],
      "source": [
        "time_steps = 1\n",
        "\n",
        "training_X, training_Y = create_sequences(data_train[['X20']], data_train.X20, time_steps)\n",
        "testing_X, testing_Y = create_sequences(data_test[['X20']], data_test.X20, time_steps)\n",
        "\n",
        "print(training_X.shape, testing_X.shape)"
      ]
    },
    {
      "cell_type": "code",
      "source": [
        "import numpy.ma as ma\n",
        "#np.where(np.isnan(training_X), ma.array(training_X, mask=np.isnan(training_X)).mean(axis=0), training_X)    \n",
        "##np.where(np.isnan(training_Y), ma.array(training_Y, mask=np.isnan(training_Y)).mean(axis=0), training_Y)    \n",
        "#np.where(np.isnan(testing_X), ma.array(testing_X, mask=np.isnan(testing_X)).mean(axis=0), testing_X) \n",
        "#np.where(np.isnan(testing_Y), ma.array(testing_Y, mask=np.isnan(testing_Y)).mean(axis=0), testing_Y) "
      ],
      "metadata": {
        "id": "tPDfOc0glM2a"
      },
      "execution_count": null,
      "outputs": []
    },
    {
      "cell_type": "code",
      "execution_count": null,
      "metadata": {
        "id": "2U4VUEWlPiIH",
        "colab": {
          "base_uri": "https://localhost:8080/"
        },
        "outputId": "c5a52520-be40-4a6c-e384-ad63419e1c29"
      },
      "outputs": [
        {
          "output_type": "stream",
          "name": "stdout",
          "text": [
            "timesteps: 1, features:1\n"
          ]
        }
      ],
      "source": [
        "timesteps = training_X.shape[1] # 30\n",
        "nfeatures = training_X.shape[2] # 1\n",
        "\n",
        "print('timesteps: {}, features:{}'.format(timesteps,nfeatures))"
      ]
    },
    {
      "cell_type": "code",
      "execution_count": null,
      "metadata": {
        "id": "d55MH2D4PrFA",
        "colab": {
          "base_uri": "https://localhost:8080/"
        },
        "outputId": "7c814df0-a60a-4552-9d5c-fc8ba11a4e02"
      },
      "outputs": [
        {
          "output_type": "stream",
          "name": "stdout",
          "text": [
            "Model: \"sequential\"\n",
            "_________________________________________________________________\n",
            " Layer (type)                Output Shape              Param #   \n",
            "=================================================================\n",
            " lstm (LSTM)                 (None, 128)               66560     \n",
            "                                                                 \n",
            " dropout (Dropout)           (None, 128)               0         \n",
            "                                                                 \n",
            " repeat_vector (RepeatVector  (None, 1, 128)           0         \n",
            " )                                                               \n",
            "                                                                 \n",
            " lstm_1 (LSTM)               (None, 1, 128)            131584    \n",
            "                                                                 \n",
            " dropout_1 (Dropout)         (None, 1, 128)            0         \n",
            "                                                                 \n",
            " time_distributed (TimeDistr  (None, 1, 1)             129       \n",
            " ibuted)                                                         \n",
            "                                                                 \n",
            "=================================================================\n",
            "Total params: 198,273\n",
            "Trainable params: 198,273\n",
            "Non-trainable params: 0\n",
            "_________________________________________________________________\n"
          ]
        }
      ],
      "source": [
        "from tensorflow.keras.models import Sequential\n",
        "from tensorflow.keras.layers import Dense, LSTM, Dropout, RepeatVector, TimeDistributed\n",
        "model = Sequential([\n",
        "    LSTM(128, input_shape=(timesteps , nfeatures)), Dropout(0.2), RepeatVector(timesteps), LSTM(128, return_sequences=True), Dropout(0.2),\n",
        "    TimeDistributed(Dense(nfeatures))   \n",
        "])\n",
        "model.compile(loss='mae', optimizer='adam')\n",
        "model.summary()"
      ]
    },
    {
      "cell_type": "code",
      "execution_count": null,
      "metadata": {
        "id": "IWZWiCIyPyAK",
        "colab": {
          "base_uri": "https://localhost:8080/"
        },
        "outputId": "0bf2bd7f-921d-4668-cceb-f3bfeed03b51"
      },
      "outputs": [
        {
          "output_type": "stream",
          "name": "stdout",
          "text": [
            "Epoch 1/10\n",
            "13973/13973 [==============================] - 69s 5ms/step - loss: 0.0437 - val_loss: 0.0996\n",
            "Epoch 2/10\n",
            "13973/13973 [==============================] - 67s 5ms/step - loss: 0.0324 - val_loss: 0.1031\n",
            "Epoch 3/10\n",
            "13973/13973 [==============================] - 67s 5ms/step - loss: 0.0252 - val_loss: 0.1062\n",
            "Epoch 4/10\n",
            "13973/13973 [==============================] - 68s 5ms/step - loss: 0.0234 - val_loss: 0.0995\n",
            "Epoch 5/10\n",
            "13973/13973 [==============================] - 66s 5ms/step - loss: 0.0228 - val_loss: 0.0935\n",
            "Epoch 6/10\n",
            "13973/13973 [==============================] - 65s 5ms/step - loss: 0.0222 - val_loss: 0.0913\n",
            "Epoch 7/10\n",
            "13973/13973 [==============================] - 67s 5ms/step - loss: 0.0212 - val_loss: 0.0886\n",
            "Epoch 8/10\n",
            "13973/13973 [==============================] - 67s 5ms/step - loss: 0.0218 - val_loss: 0.0857\n",
            "Epoch 9/10\n",
            "13973/13973 [==============================] - 66s 5ms/step - loss: 0.0210 - val_loss: 0.0821\n",
            "Epoch 10/10\n",
            "13973/13973 [==============================] - 65s 5ms/step - loss: 0.0206 - val_loss: 0.0842\n"
          ]
        }
      ],
      "source": [
        "history = model.fit(\n",
        "    training_X, \n",
        "    training_Y, \n",
        "    epochs=10, \n",
        "    batch_size=32, \n",
        "    validation_split=0.1, \n",
        "    #callbacks=[tf.keras.callbacks.EarlyStopping(monitor='val_loss', mode='min')],\n",
        "    shuffle=False\n",
        ")"
      ]
    },
    {
      "cell_type": "code",
      "execution_count": null,
      "metadata": {
        "id": "YHbDeaDDx9dw",
        "colab": {
          "base_uri": "https://localhost:8080/",
          "height": 285
        },
        "outputId": "ed41f782-d8f3-4503-ff7d-79bd7f8b3711"
      },
      "outputs": [
        {
          "output_type": "execute_result",
          "data": {
            "text/plain": [
              "<matplotlib.legend.Legend at 0x7f5ddf4ad690>"
            ]
          },
          "metadata": {},
          "execution_count": 13
        },
        {
          "output_type": "display_data",
          "data": {
            "text/plain": [
              "<Figure size 432x288 with 1 Axes>"
            ],
            "image/png": "[encoded data removed]"
          },
          "metadata": {
            "needs_background": "light"
          }
        }
      ],
      "source": [
        "plt.plot(history.history['loss'], label='Training Loss')\n",
        "plt.plot(history.history['val_loss'], label='Validation Loss')\n",
        "plt.legend()"
      ]
    },
    {
      "cell_type": "code",
      "execution_count": null,
      "metadata": {
        "id": "VDSxFKr2yF5I"
      },
      "outputs": [],
      "source": [
        " X_train_pred= model.predict(training_X)\n",
        "\n",
        "#predict training data"
      ]
    },
    {
      "cell_type": "code",
      "execution_count": null,
      "metadata": {
        "id": "FT11x61OzgcZ"
      },
      "outputs": [],
      "source": [
        "#train_mae\n",
        "#np.where(np.isnan(X_train_pred), ma.array(X_train_pred, mask=np.isnan(X_train_pred)).mean(axis=0), X_train_pred)    \n"
      ]
    },
    {
      "cell_type": "code",
      "source": [
        "train_mae = np.mean(np.abs(X_train_pred, training_X), axis=1)\n",
        "sns.distplot(train_mae, bins=50, kde=True)\n",
        "#MAE loss for training"
      ],
      "metadata": {
        "id": "H--3TWEHfgVI",
        "colab": {
          "base_uri": "https://localhost:8080/",
          "height": 339
        },
        "outputId": "c1d1abbc-4cc4-4662-fe63-f5a64ad58091"
      },
      "execution_count": null,
      "outputs": [
        {
          "output_type": "stream",
          "name": "stderr",
          "text": [
            "/usr/local/lib/python3.7/dist-packages/seaborn/distributions.py:2619: FutureWarning: `distplot` is a deprecated function and will be removed in a future version. Please adapt your code to use either `displot` (a figure-level function with similar flexibility) or `histplot` (an axes-level function for histograms).\n",
            "  warnings.warn(msg, FutureWarning)\n"
          ]
        },
        {
          "output_type": "execute_result",
          "data": {
            "text/plain": [
              "<matplotlib.axes._subplots.AxesSubplot at 0x7f5de6003f50>"
            ]
          },
          "metadata": {},
          "execution_count": 16
        },
        {
          "output_type": "display_data",
          "data": {
            "text/plain": [
              "<Figure size 432x288 with 1 Axes>"
            ],
            "image/png": "[encoded data removed]"
          },
          "metadata": {
            "needs_background": "light"
          }
        }
      ]
    },
    {
      "cell_type": "code",
      "source": [
        "#np.where(np.isnan(train_mae), ma.array(train_mae, mask=np.isnan(train_mae)).mean(axis=0), train_mae)    \n",
        "#sns.distplot(train_mae, bins=50, kde=True)\n"
      ],
      "metadata": {
        "id": "754gHy8-nOHR"
      },
      "execution_count": null,
      "outputs": []
    },
    {
      "cell_type": "code",
      "source": [
        "X_test_pred =  model.predict(testing_X)\n",
        "#np.where(np.isnan(X_test_pred), ma.array(X_test_pred, mask=np.isnan(X_test_pred)).mean(axis=0), X_test_pred)    \n",
        "\n",
        "test_mae = np.mean(np.abs(X_test_pred, testing_X), axis=1)"
      ],
      "metadata": {
        "id": "NoXhrqMtga9z"
      },
      "execution_count": null,
      "outputs": []
    },
    {
      "cell_type": "code",
      "source": [
        "sns.distplot(test_mae, bins=50, kde=True)\n",
        "\n",
        "from sklearn.metrics import confusion_matrix\n"
      ],
      "metadata": {
        "id": "pZgGSNQNXVjK",
        "colab": {
          "base_uri": "https://localhost:8080/",
          "height": 322
        },
        "outputId": "b46d1e0a-c369-44d4-c1d7-642766f6ef94"
      },
      "execution_count": null,
      "outputs": [
        {
          "output_type": "stream",
          "name": "stderr",
          "text": [
            "/usr/local/lib/python3.7/dist-packages/seaborn/distributions.py:2619: FutureWarning: `distplot` is a deprecated function and will be removed in a future version. Please adapt your code to use either `displot` (a figure-level function with similar flexibility) or `histplot` (an axes-level function for histograms).\n",
            "  warnings.warn(msg, FutureWarning)\n"
          ]
        },
        {
          "output_type": "display_data",
          "data": {
            "text/plain": [
              "<Figure size 432x288 with 1 Axes>"
            ],
            "image/png": "[encoded data removed]"
          },
          "metadata": {
            "needs_background": "light"
          }
        }
      ]
    },
    {
      "cell_type": "code",
      "source": [
        "np.where(np.isnan(test_mae), ma.array(test_mae, mask=np.isnan(test_mae)).mean(axis=0), test_mae)    \n",
        "sns.distplot(test_mae, bins=50, kde=True)\n"
      ],
      "metadata": {
        "id": "_QzDvIoUnd1U",
        "colab": {
          "base_uri": "https://localhost:8080/",
          "height": 339
        },
        "outputId": "fd830a60-9496-4fc9-f95f-30f83861739e"
      },
      "execution_count": null,
      "outputs": [
        {
          "output_type": "stream",
          "name": "stderr",
          "text": [
            "/usr/local/lib/python3.7/dist-packages/seaborn/distributions.py:2619: FutureWarning: `distplot` is a deprecated function and will be removed in a future version. Please adapt your code to use either `displot` (a figure-level function with similar flexibility) or `histplot` (an axes-level function for histograms).\n",
            "  warnings.warn(msg, FutureWarning)\n"
          ]
        },
        {
          "output_type": "execute_result",
          "data": {
            "text/plain": [
              "<matplotlib.axes._subplots.AxesSubplot at 0x7f5de59b0890>"
            ]
          },
          "metadata": {},
          "execution_count": 20
        },
        {
          "output_type": "display_data",
          "data": {
            "text/plain": [
              "<Figure size 432x288 with 1 Axes>"
            ],
            "image/png": "[encoded data removed]"
          },
          "metadata": {
            "needs_background": "light"
          }
        }
      ]
    },
    {
      "cell_type": "code",
      "source": [
        "\n",
        "score = pd.DataFrame(data_test[time_steps:])\n",
        "score['loss'] = test_mae\n",
        "score['loss2'] = test_mae*test_mae\n",
        "#z=0.7\n",
        "#testmse = np.mean(score.loss2) + z*np.std(score.loss2)\n",
        "MSE_tr = np.square(np.subtract(training_X,X_train_pred)).mean()\n",
        "\n",
        "threshold = 0.2527 #MSE_tr #train_mae_loss.max()\n",
        "score['threshold'] = threshold\n",
        "score['anomaly'] = (score.loss > score.threshold).astype(int)\n",
        "#score['anomaly2'] = (score.loss2 > score.threshold).astype(int)\n",
        "\n",
        "score['X21'] = data_test[time_steps:].X20\n",
        "print('threshold:',format(threshold))\n",
        "outppt=score[['anomaly']]\n",
        "score\n",
        "\n",
        "#outppt.to_csv('/content/drive/My Drive/DataAnalytics/project/may1may2.csv')"
      ],
      "metadata": {
        "id": "tTKLxsSPgrQC",
        "colab": {
          "base_uri": "https://localhost:8080/",
          "height": 467
        },
        "outputId": "1d9f95b8-af32-4e12-cc88-93da1bb3ae9c"
      },
      "execution_count": null,
      "outputs": [
        {
          "output_type": "stream",
          "name": "stdout",
          "text": [
            "threshold: 0.2527\n"
          ]
        },
        {
          "output_type": "execute_result",
          "data": {
            "text/plain": [
              "                          X20      loss     loss2  threshold  anomaly  \\\n",
              "date                                                                    \n",
              "2015-12-28 10:00:01 -0.038765  0.177262  0.031422     0.2527        0   \n",
              "2015-12-28 10:00:02 -0.038765  0.175300  0.030730     0.2527        0   \n",
              "2015-12-28 10:00:03 -0.042958  0.175300  0.030730     0.2527        0   \n",
              "2015-12-28 10:00:04 -0.050292  0.176871  0.031283     0.2527        0   \n",
              "2015-12-28 10:00:05 -0.050292  0.179596  0.032255     0.2527        0   \n",
              "...                       ...       ...       ...        ...      ...   \n",
              "2015-12-29 20:16:28 -0.060772  0.183438  0.033650     0.2527        0   \n",
              "2015-12-29 20:16:29 -0.060772  0.183438  0.033650     0.2527        0   \n",
              "2015-12-29 20:16:30 -0.042958  0.183438  0.033650     0.2527        0   \n",
              "2015-12-29 20:16:31 -0.042958  0.176871  0.031283     0.2527        0   \n",
              "2015-12-29 20:16:32       NaN  0.176871  0.031283     0.2527        0   \n",
              "\n",
              "                          X21  \n",
              "date                           \n",
              "2015-12-28 10:00:01 -0.038765  \n",
              "2015-12-28 10:00:02 -0.038765  \n",
              "2015-12-28 10:00:03 -0.042958  \n",
              "2015-12-28 10:00:04 -0.050292  \n",
              "2015-12-28 10:00:05 -0.050292  \n",
              "...                       ...  \n",
              "2015-12-29 20:16:28 -0.060772  \n",
              "2015-12-29 20:16:29 -0.060772  \n",
              "2015-12-29 20:16:30 -0.042958  \n",
              "2015-12-29 20:16:31 -0.042958  \n",
              "2015-12-29 20:16:32       NaN  \n",
              "\n",
              "[123392 rows x 6 columns]"
            ],
            "text/html": [
              "\n",
              "  <div id=\"df-19bc6c78-abd3-44d9-a103-4ca71a7d0ad8\">\n",
              "    <div class=\"colab-df-container\">\n",
              "      <div>\n",
              "<style scoped>\n",
              "    .dataframe tbody tr th:only-of-type {\n",
              "        vertical-align: middle;\n",
              "    }\n",
              "\n",
              "    .dataframe tbody tr th {\n",
              "        vertical-align: top;\n",
              "    }\n",
              "\n",
              "    .dataframe thead th {\n",
              "        text-align: right;\n",
              "    }\n",
              "</style>\n",
              "<table border=\"1\" class=\"dataframe\">\n",
              "  <thead>\n",
              "    <tr style=\"text-align: right;\">\n",
              "      <th></th>\n",
              "      <th>X20</th>\n",
              "      <th>loss</th>\n",
              "      <th>loss2</th>\n",
              "      <th>threshold</th>\n",
              "      <th>anomaly</th>\n",
              "      <th>X21</th>\n",
              "    </tr>\n",
              "    <tr>\n",
              "      <th>date</th>\n",
              "      <th></th>\n",
              "      <th></th>\n",
              "      <th></th>\n",
              "      <th></th>\n",
              "      <th></th>\n",
              "      <th></th>\n",
              "    </tr>\n",
              "  </thead>\n",
              "  <tbody>\n",
              "    <tr>\n",
              "      <th>2015-12-28 10:00:01</th>\n",
              "      <td>-0.038765</td>\n",
              "      <td>0.177262</td>\n",
              "      <td>0.031422</td>\n",
              "      <td>0.2527</td>\n",
              "      <td>0</td>\n",
              "      <td>-0.038765</td>\n",
              "    </tr>\n",
              "    <tr>\n",
              "      <th>2015-12-28 10:00:02</th>\n",
              "      <td>-0.038765</td>\n",
              "      <td>0.175300</td>\n",
              "      <td>0.030730</td>\n",
              "      <td>0.2527</td>\n",
              "      <td>0</td>\n",
              "      <td>-0.038765</td>\n",
              "    </tr>\n",
              "    <tr>\n",
              "      <th>2015-12-28 10:00:03</th>\n",
              "      <td>-0.042958</td>\n",
              "      <td>0.175300</td>\n",
              "      <td>0.030730</td>\n",
              "      <td>0.2527</td>\n",
              "      <td>0</td>\n",
              "      <td>-0.042958</td>\n",
              "    </tr>\n",
              "    <tr>\n",
              "      <th>2015-12-28 10:00:04</th>\n",
              "      <td>-0.050292</td>\n",
              "      <td>0.176871</td>\n",
              "      <td>0.031283</td>\n",
              "      <td>0.2527</td>\n",
              "      <td>0</td>\n",
              "      <td>-0.050292</td>\n",
              "    </tr>\n",
              "    <tr>\n",
              "      <th>2015-12-28 10:00:05</th>\n",
              "      <td>-0.050292</td>\n",
              "      <td>0.179596</td>\n",
              "      <td>0.032255</td>\n",
              "      <td>0.2527</td>\n",
              "      <td>0</td>\n",
              "      <td>-0.050292</td>\n",
              "    </tr>\n",
              "    <tr>\n",
              "      <th>...</th>\n",
              "      <td>...</td>\n",
              "      <td>...</td>\n",
              "      <td>...</td>\n",
              "      <td>...</td>\n",
              "      <td>...</td>\n",
              "      <td>...</td>\n",
              "    </tr>\n",
              "    <tr>\n",
              "      <th>2015-12-29 20:16:28</th>\n",
              "      <td>-0.060772</td>\n",
              "      <td>0.183438</td>\n",
              "      <td>0.033650</td>\n",
              "      <td>0.2527</td>\n",
              "      <td>0</td>\n",
              "      <td>-0.060772</td>\n",
              "    </tr>\n",
              "    <tr>\n",
              "      <th>2015-12-29 20:16:29</th>\n",
              "      <td>-0.060772</td>\n",
              "      <td>0.183438</td>\n",
              "      <td>0.033650</td>\n",
              "      <td>0.2527</td>\n",
              "      <td>0</td>\n",
              "      <td>-0.060772</td>\n",
              "    </tr>\n",
              "    <tr>\n",
              "      <th>2015-12-29 20:16:30</th>\n",
              "      <td>-0.042958</td>\n",
              "      <td>0.183438</td>\n",
              "      <td>0.033650</td>\n",
              "      <td>0.2527</td>\n",
              "      <td>0</td>\n",
              "      <td>-0.042958</td>\n",
              "    </tr>\n",
              "    <tr>\n",
              "      <th>2015-12-29 20:16:31</th>\n",
              "      <td>-0.042958</td>\n",
              "      <td>0.176871</td>\n",
              "      <td>0.031283</td>\n",
              "      <td>0.2527</td>\n",
              "      <td>0</td>\n",
              "      <td>-0.042958</td>\n",
              "    </tr>\n",
              "    <tr>\n",
              "      <th>2015-12-29 20:16:32</th>\n",
              "      <td>NaN</td>\n",
              "      <td>0.176871</td>\n",
              "      <td>0.031283</td>\n",
              "      <td>0.2527</td>\n",
              "      <td>0</td>\n",
              "      <td>NaN</td>\n",
              "    </tr>\n",
              "  </tbody>\n",
              "</table>\n",
              "<p>123392 rows × 6 columns</p>\n",
              "</div>\n",
              "      <button class=\"colab-df-convert\" onclick=\"convertToInteractive('df-19bc6c78-abd3-44d9-a103-4ca71a7d0ad8')\"\n",
              "              title=\"Convert this dataframe to an interactive table.\"\n",
              "              style=\"display:none;\">\n",
              "        \n",
              "  <svg xmlns=\"http://www.w3.org/2000/svg\" height=\"24px\"viewBox=\"0 0 24 24\"\n",
              "       width=\"24px\">\n",
              "    <path d=\"M0 0h24v24H0V0z\" fill=\"none\"/>\n",
              "    <path d=\"M18.56 5.44l.94 2.06.94-2.06 2.06-.94-2.06-.94-.94-2.06-.94 2.06-2.06.94zm-11 1L8.5 8.5l.94-2.06 2.06-.94-2.06-.94L8.5 2.5l-.94 2.06-2.06.94zm10 10l.94 2.06.94-2.06 2.06-.94-2.06-.94-.94-2.06-.94 2.06-2.06.94z\"/><path d=\"M17.41 7.96l-1.37-1.37c-.4-.4-.92-.59-1.43-.59-.52 0-1.04.2-1.43.59L10.3 9.45l-7.72 7.72c-.78.78-.78 2.05 0 2.83L4 21.41c.39.39.9.59 1.41.59.51 0 1.02-.2 1.41-.59l7.78-7.78 2.81-2.81c.8-.78.8-2.07 0-2.86zM5.41 20L4 18.59l7.72-7.72 1.47 1.35L5.41 20z\"/>\n",
              "  </svg>\n",
              "      </button>\n",
              "      \n",
              "  <style>\n",
              "    .colab-df-container {\n",
              "      display:flex;\n",
              "      flex-wrap:wrap;\n",
              "      gap: 12px;\n",
              "    }\n",
              "\n",
              "    .colab-df-convert {\n",
              "      background-color: #E8F0FE;\n",
              "      border: none;\n",
              "      border-radius: 50%;\n",
              "      cursor: pointer;\n",
              "      display: none;\n",
              "      fill: #1967D2;\n",
              "      height: 32px;\n",
              "      padding: 0 0 0 0;\n",
              "      width: 32px;\n",
              "    }\n",
              "\n",
              "    .colab-df-convert:hover {\n",
              "      background-color: #E2EBFA;\n",
              "      box-shadow: 0px 1px 2px rgba(60, 64, 67, 0.3), 0px 1px 3px 1px rgba(60, 64, 67, 0.15);\n",
              "      fill: #174EA6;\n",
              "    }\n",
              "\n",
              "    [theme=dark] .colab-df-convert {\n",
              "      background-color: #3B4455;\n",
              "      fill: #D2E3FC;\n",
              "    }\n",
              "\n",
              "    [theme=dark] .colab-df-convert:hover {\n",
              "      background-color: #434B5C;\n",
              "      box-shadow: 0px 1px 3px 1px rgba(0, 0, 0, 0.15);\n",
              "      filter: drop-shadow(0px 1px 2px rgba(0, 0, 0, 0.3));\n",
              "      fill: #FFFFFF;\n",
              "    }\n",
              "  </style>\n",
              "\n",
              "      <script>\n",
              "        const buttonEl =\n",
              "          document.querySelector('#df-19bc6c78-abd3-44d9-a103-4ca71a7d0ad8 button.colab-df-convert');\n",
              "        buttonEl.style.display =\n",
              "          google.colab.kernel.accessAllowed ? 'block' : 'none';\n",
              "\n",
              "        async function convertToInteractive(key) {\n",
              "          const element = document.querySelector('#df-19bc6c78-abd3-44d9-a103-4ca71a7d0ad8');\n",
              "          const dataTable =\n",
              "            await google.colab.kernel.invokeFunction('convertToInteractive',\n",
              "                                                     [key], {});\n",
              "          if (!dataTable) return;\n",
              "\n",
              "          const docLinkHtml = 'Like what you see? Visit the ' +\n",
              "            '<a target=\"_blank\" href=https://colab.research.google.com/notebooks/data_table.ipynb>data table notebook</a>'\n",
              "            + ' to learn more about interactive tables.';\n",
              "          element.innerHTML = '';\n",
              "          dataTable['output_type'] = 'display_data';\n",
              "          await google.colab.output.renderOutput(dataTable, element);\n",
              "          const docLink = document.createElement('div');\n",
              "          docLink.innerHTML = docLinkHtml;\n",
              "          element.appendChild(docLink);\n",
              "        }\n",
              "      </script>\n",
              "    </div>\n",
              "  </div>\n",
              "  "
            ]
          },
          "metadata": {},
          "execution_count": 50
        }
      ]
    },
    {
      "cell_type": "code",
      "source": [
        "plt.plot(score.index, score.loss, label='loss')\n",
        "plt.plot(score.index, score.threshold, label='threshold')\n",
        "plt.legend()"
      ],
      "metadata": {
        "id": "uQqbpk7whRLV",
        "colab": {
          "base_uri": "https://localhost:8080/",
          "height": 305
        },
        "outputId": "a9b2d927-46f6-4b40-a5f7-1a2126d6ec0b"
      },
      "execution_count": null,
      "outputs": [
        {
          "output_type": "execute_result",
          "data": {
            "text/plain": [
              "<matplotlib.legend.Legend at 0x7f5de502a2d0>"
            ]
          },
          "metadata": {},
          "execution_count": 51
        },
        {
          "output_type": "display_data",
          "data": {
            "text/plain": [
              "<Figure size 432x288 with 1 Axes>"
            ],
            "image/png": "[encoded data removed]"
          },
          "metadata": {
            "needs_background": "light"
          }
        }
      ]
    },
    {
      "cell_type": "code",
      "source": [
        "anomalies = score[score.anomaly==True]\n",
        "len(anomalies)\n"
      ],
      "metadata": {
        "id": "OlXw1n8Sivkt",
        "colab": {
          "base_uri": "https://localhost:8080/"
        },
        "outputId": "62065c71-e36f-4dff-e73c-7c7f37c33f7f"
      },
      "execution_count": null,
      "outputs": [
        {
          "output_type": "execute_result",
          "data": {
            "text/plain": [
              "10711"
            ]
          },
          "metadata": {},
          "execution_count": 52
        }
      ]
    },
    {
      "cell_type": "code",
      "source": [
        "plt.plot(\n",
        "    data_test[time_steps:].index,\n",
        "    scaler.inverse_transform(data_test[time_steps:].X20.values.reshape(1,-1)).reshape(-1),\n",
        "    label='data'           \n",
        ")\n",
        "sns.scatterplot(\n",
        "    anomalies.index, scaler.inverse_transform(anomalies.X20.values.reshape(1,-1)).reshape(-1),\n",
        "    s=52,\n",
        "    label='Anomaly',\n",
        "    color='black'\n",
        ")\n",
        "plt.legend()"
      ],
      "metadata": {
        "id": "gO023VogiBx1",
        "colab": {
          "base_uri": "https://localhost:8080/",
          "height": 356
        },
        "outputId": "bfbb4460-5144-4816-836a-06e2e3aaa1be"
      },
      "execution_count": null,
      "outputs": [
        {
          "output_type": "stream",
          "name": "stderr",
          "text": [
            "/usr/local/lib/python3.7/dist-packages/seaborn/_decorators.py:43: FutureWarning: Pass the following variables as keyword args: x, y. From version 0.12, the only valid positional argument will be `data`, and passing other arguments without an explicit keyword will result in an error or misinterpretation.\n",
            "  FutureWarning\n"
          ]
        },
        {
          "output_type": "execute_result",
          "data": {
            "text/plain": [
              "<matplotlib.legend.Legend at 0x7f5de4f8a510>"
            ]
          },
          "metadata": {},
          "execution_count": 53
        },
        {
          "output_type": "display_data",
          "data": {
            "text/plain": [
              "<Figure size 432x288 with 1 Axes>"
            ],
            "image/png": "[encoded data removed]"
          },
          "metadata": {
            "needs_background": "light"
          }
        }
      ]
    },
    {
      "cell_type": "code",
      "source": [
        "import numpy.ma as ma\n",
        "np.where(np.isnan(X_test_pred), ma.array(X_test_pred, mask=np.isnan(X_test_pred)).mean(axis=0), X_test_pred)    \n",
        "np.where(np.isnan(X_train_pred), ma.array(X_train_pred, mask=np.isnan(X_train_pred)).mean(axis=0), X_train_pred)    \n",
        "np.where(np.isnan(testing_X), ma.array(testing_X, mask=np.isnan(testing_X)).mean(axis=0), testing_X)    \n"
      ],
      "metadata": {
        "id": "U3sBiAh2itmr",
        "colab": {
          "base_uri": "https://localhost:8080/"
        },
        "outputId": "1af287de-049e-4eb2-96bf-5ec5518ac342"
      },
      "execution_count": null,
      "outputs": [
        {
          "output_type": "execute_result",
          "data": {
            "text/plain": [
              "array([[[0.17726175]],\n",
              "\n",
              "       [[0.17529972]],\n",
              "\n",
              "       [[0.17529972]],\n",
              "\n",
              "       ...,\n",
              "\n",
              "       [[0.18343826]],\n",
              "\n",
              "       [[0.17687105]],\n",
              "\n",
              "       [[0.17687105]]])"
            ]
          },
          "metadata": {},
          "execution_count": 54
        }
      ]
    },
    {
      "cell_type": "code",
      "execution_count": null,
      "metadata": {
        "id": "3BKWkQo6zmBM",
        "colab": {
          "base_uri": "https://localhost:8080/"
        },
        "outputId": "e042f7bb-303c-4a1c-fa0b-513f1748f478"
      },
      "outputs": [
        {
          "output_type": "stream",
          "name": "stdout",
          "text": [
            "3856/3856 [==============================] - 9s 2ms/step - loss: nan\n",
            "15525/15525 [==============================] - 28s 2ms/step - loss: 0.3248\n",
            "nan 0.3247881233692169\n"
          ]
        }
      ],
      "source": [
        "test_acc=model.evaluate(testing_X, testing_Y)\n",
        "train_acc=model.evaluate(training_X, training_Y)\n",
        "print(test_acc,train_acc)"
      ]
    },
    {
      "cell_type": "code",
      "source": [
        "from sklearn.metrics import confusion_matrix\n",
        "from sklearn.metrics import roc_auc_score, accuracy_score, roc_curve, auc\n",
        "from sklearn.metrics import precision_score\n",
        "from sklearn.metrics import recall_score\n",
        "from sklearn.metrics import f1_score\n",
        "from sklearn import metrics\n",
        "\n",
        "predicted = X_test_pred[:, -1].astype(int)\n",
        "actual = testing_X[:, -1].astype(int)\n",
        "cp = confusion_matrix(actual, predicted)\n",
        "tp, fn, fp, tn = confusion_matrix(actual,predicted,labels=[1,0]).reshape(-1)\n",
        "print('tp, fn, fp, tn: \\n', tp, fn, fp, tn)\n",
        "aaa = accuracy_score(actual,predicted)\n",
        "print('\\naccuracy')\n",
        "print(aaa)\n",
        "pree = precision_score(actual,predicted,average=None)\n",
        "print('\\nprecision')\n",
        "print(pree)\n",
        "recal = recall_score(actual,predicted,average=None)\n",
        "print('\\nrecall')\n",
        "print(recal)\n",
        "f1 = f1_score(actual, predicted, average=None)\n",
        "print('\\nf1')\n",
        "print(f1)\n",
        "\n",
        "fpr, tpr, thresholds = metrics.roc_curve(actual, predicted, pos_label=1)\n",
        "print('\\n fpr, tpr, thresholds\\n',fpr,'\\n', tpr,'\\n', thresholds)\n",
        "print('\\n')\n"
      ],
      "metadata": {
        "id": "Fdp5gq2lOTtu",
        "colab": {
          "base_uri": "https://localhost:8080/"
        },
        "outputId": "76a3bc30-3b60-4f4d-bede-b3815c0b533c"
      },
      "execution_count": null,
      "outputs": [
        {
          "output_type": "stream",
          "name": "stdout",
          "text": [
            "tp, fn, fp, tn: \n",
            " 0 0 0 122831\n",
            "\n",
            "accuracy\n",
            "0.9954535140041494\n",
            "\n",
            "precision\n",
            "[0. 0. 1. 0. 0.]\n",
            "\n",
            "recall\n",
            "[0. 0. 1. 0. 0.]\n",
            "\n",
            "f1\n",
            "[0. 0. 1. 0. 0.]\n",
            "\n",
            " fpr, tpr, thresholds\n",
            " [0.         0.99669745 0.99669745 1.        ] \n",
            " [0. 0. 1. 1.] \n",
            " [ 1  0 -1 -2]\n",
            "\n",
            "\n"
          ]
        },
        {
          "output_type": "stream",
          "name": "stderr",
          "text": [
            "/usr/local/lib/python3.7/dist-packages/sklearn/metrics/_classification.py:1318: UndefinedMetricWarning: Precision is ill-defined and being set to 0.0 in labels with no predicted samples. Use `zero_division` parameter to control this behavior.\n",
            "  _warn_prf(average, modifier, msg_start, len(result))\n",
            "/usr/local/lib/python3.7/dist-packages/sklearn/metrics/_classification.py:1318: UndefinedMetricWarning: Recall is ill-defined and being set to 0.0 in labels with no true samples. Use `zero_division` parameter to control this behavior.\n",
            "  _warn_prf(average, modifier, msg_start, len(result))\n"
          ]
        }
      ]
    },
    {
      "cell_type": "code",
      "source": [
        "#roc_auc_score(testing_Y, X_test_pred[:,0:1])\n",
        "\n"
      ],
      "metadata": {
        "id": "ZL-NxZwq1aVS"
      },
      "execution_count": 1,
      "outputs": []
    }
  ],
  "metadata": {
    "colab": {
      "collapsed_sections": [],
      "name": "Ajith Muthu Final ANMDT.ipynb",
      "provenance": []
    },
    "kernelspec": {
      "display_name": "Python 3",
      "name": "python3"
    },
    "language_info": {
      "name": "python"
    }
  },
  "nbformat": 4,
  "nbformat_minor": 0
}